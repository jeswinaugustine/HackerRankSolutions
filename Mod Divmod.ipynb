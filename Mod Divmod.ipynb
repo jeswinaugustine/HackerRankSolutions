{
 "cells": [
  {
   "cell_type": "markdown",
   "metadata": {},
   "source": [
    "One of the built-in functions of Python is divmod, which takes two arguments and and returns a tuple containing the quotient of first and then the remainder\n",
    "\n",
    ".\n",
    "\n",
    "For example:\n",
    "\n",
    ">>> print divmod(177,10)\n",
    "(17, 7)\n",
    "\n",
    "Here, the integer division is 177/10 => 17 and the modulo operator is 177%10 => 7.\n",
    "\n",
    "Task\n",
    "Read in two integers,\n",
    "and , and print three lines.\n",
    "The first line is the integer division (While using Python2 remember to import division from __future__).\n",
    "The second line is the result of the modulo operator: .\n",
    "The third line prints the divmod of and\n",
    "\n",
    ".\n",
    "\n",
    "Input Format\n",
    "The first line contains the first integer,\n",
    ", and the second line contains the second integer,\n",
    "\n",
    ".\n",
    "\n",
    "Output Format\n",
    "Print the result as described above.\n",
    "\n",
    "Sample Input\n",
    "\n",
    "177\n",
    "10\n",
    "\n",
    "Sample Output\n",
    "\n",
    "17\n",
    "7\n",
    "(17, 7)\n"
   ]
  },
  {
   "cell_type": "code",
   "execution_count": 5,
   "metadata": {},
   "outputs": [
    {
     "name": "stdout",
     "output_type": "stream",
     "text": [
      "177\n",
      "10\n",
      "17\n",
      "7\n",
      "(17, 7)\n"
     ]
    }
   ],
   "source": [
    "n1 = int(input())\n",
    "n2 = int(input())\n",
    "\n",
    "result = divmod(n1,n2)\n",
    "print(result[0])\n",
    "print(result[1])\n",
    "print(result)"
   ]
  },
  {
   "cell_type": "code",
   "execution_count": 6,
   "metadata": {},
   "outputs": [],
   "source": [
    "### Final submision"
   ]
  },
  {
   "cell_type": "code",
   "execution_count": 8,
   "metadata": {},
   "outputs": [
    {
     "name": "stdout",
     "output_type": "stream",
     "text": [
      "177\n",
      "10\n",
      "17\n",
      "7\n",
      "(17, 7)\n"
     ]
    }
   ],
   "source": [
    "print('{0}\\n{1}\\n({0}, {1})'.format(*divmod(int(input()), int(input()))))\n"
   ]
  },
  {
   "cell_type": "code",
   "execution_count": null,
   "metadata": {},
   "outputs": [],
   "source": []
  }
 ],
 "metadata": {
  "kernelspec": {
   "display_name": "Python 3",
   "language": "python",
   "name": "python3"
  },
  "language_info": {
   "codemirror_mode": {
    "name": "ipython",
    "version": 3
   },
   "file_extension": ".py",
   "mimetype": "text/x-python",
   "name": "python",
   "nbconvert_exporter": "python",
   "pygments_lexer": "ipython3",
   "version": "3.8.5"
  }
 },
 "nbformat": 4,
 "nbformat_minor": 4
}

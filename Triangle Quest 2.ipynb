{
 "cells": [
  {
   "cell_type": "markdown",
   "metadata": {},
   "source": [
    "You are given a positive integer .\n",
    "Your task is to print a palindromic triangle of size\n",
    "\n",
    ".\n",
    "\n",
    "For example, a palindromic triangle of size\n",
    "\n",
    "is:\n",
    "\n",
    "1\n",
    "121\n",
    "12321\n",
    "1234321\n",
    "123454321\n",
    "\n",
    "You can't take more than two lines. The first line (a for-statement) is already written for you.\n",
    "You have to complete the code using exactly one print statement.\n",
    "\n",
    "Note:\n",
    "Using anything related to strings will give a score of\n",
    ".\n",
    "Using more than one for-statement will give a score of\n",
    "\n",
    ".\n",
    "\n",
    "Input Format\n",
    "\n",
    "A single line of input containing the integer\n",
    "\n",
    ".\n",
    "\n",
    "Constraints\n",
    "\n",
    "Output Format\n",
    "\n",
    "Print the palindromic triangle of size\n",
    "\n",
    "as explained above.\n",
    "\n",
    "Sample Input\n",
    "\n",
    "5\n",
    "\n",
    "Sample Output\n",
    "\n",
    "1\n",
    "121\n",
    "12321\n",
    "1234321\n",
    "123454321\n"
   ]
  },
  {
   "cell_type": "code",
   "execution_count": 9,
   "metadata": {},
   "outputs": [
    {
     "name": "stdout",
     "output_type": "stream",
     "text": [
      "5\n",
      "1\n",
      "22\n",
      "333\n",
      "4444\n",
      "55555\n"
     ]
    }
   ],
   "source": [
    "\n",
    "\n",
    "for i in range(int(input())) :\n",
    "    temp = 1\n",
    "    print( (temp) * str(i+1))"
   ]
  },
  {
   "cell_type": "code",
   "execution_count": 10,
   "metadata": {},
   "outputs": [
    {
     "name": "stdout",
     "output_type": "stream",
     "text": [
      "5\n",
      "1\n",
      "121\n",
      "12321\n",
      "1234321\n",
      "123454321\n"
     ]
    }
   ],
   "source": [
    "for x in range(1,int(input())+1):\n",
    "    print(( (10**x - 1)//9) **2)"
   ]
  },
  {
   "cell_type": "code",
   "execution_count": 22,
   "metadata": {},
   "outputs": [
    {
     "name": "stdout",
     "output_type": "stream",
     "text": [
      "5\n",
      "1\n",
      "121\n",
      "12321\n",
      "1234321\n",
      "123454321\n"
     ]
    }
   ],
   "source": [
    "for x in range(1,int(input())+1):\n",
    "    print( ((10**x - 1)//9)**2)\n",
    "    "
   ]
  },
  {
   "cell_type": "code",
   "execution_count": null,
   "metadata": {},
   "outputs": [],
   "source": []
  }
 ],
 "metadata": {
  "kernelspec": {
   "display_name": "Python 3",
   "language": "python",
   "name": "python3"
  },
  "language_info": {
   "codemirror_mode": {
    "name": "ipython",
    "version": 3
   },
   "file_extension": ".py",
   "mimetype": "text/x-python",
   "name": "python",
   "nbconvert_exporter": "python",
   "pygments_lexer": "ipython3",
   "version": "3.8.5"
  }
 },
 "nbformat": 4,
 "nbformat_minor": 4
}

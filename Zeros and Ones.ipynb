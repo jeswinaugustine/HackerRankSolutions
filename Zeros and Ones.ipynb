{
 "cells": [
  {
   "cell_type": "markdown",
   "metadata": {},
   "source": [
    "Zeros and Ones"
   ]
  },
  {
   "cell_type": "markdown",
   "metadata": {},
   "source": [
    "\n",
    "zeros\n",
    "\n",
    "The zeros tool returns a new array with a given shape and type filled with\n",
    "\n",
    "'s.\n",
    "\n",
    "import numpy\n",
    "\n",
    "print numpy.zeros((1,2))                    #Default type is float\n",
    "#Output : [[ 0.  0.]] \n",
    "\n",
    "print numpy.zeros((1,2), dtype = numpy.int) #Type changes to int\n",
    "#Output : [[0 0]]\n",
    "\n",
    "ones\n",
    "\n",
    "The ones tool returns a new array with a given shape and type filled with\n",
    "\n",
    "'s.\n",
    "\n",
    "import numpy\n",
    "\n",
    "print numpy.ones((1,2))                    #Default type is float\n",
    "#Output : [[ 1.  1.]] \n",
    "\n",
    "print numpy.ones((1,2), dtype = numpy.int) #Type changes to int\n",
    "#Output : [[1 1]]   \n",
    "\n",
    "Task\n",
    "\n",
    "You are given the shape of the array in the form of space-separated integers, each integer representing the size of different dimensions, your task is to print an array of the given shape and integer type using the tools numpy.zeros and numpy.ones.\n",
    "\n",
    "Input Format\n",
    "\n",
    "A single line containing the space-separated integers.\n",
    "\n",
    "Constraints\n",
    "\n",
    "Output Format\n",
    "\n",
    "First, print the array using the numpy.zeros tool and then print the array with the numpy.ones tool.\n",
    "\n",
    "Sample Input 0\n",
    "\n",
    "3 3 3\n",
    "\n",
    "Sample Output 0\n",
    "\n",
    "[[[0 0 0]\n",
    "  [0 0 0]\n",
    "  [0 0 0]]\n",
    "\n",
    " [[0 0 0]\n",
    "  [0 0 0]\n",
    "  [0 0 0]]\n",
    "\n",
    " [[0 0 0]\n",
    "  [0 0 0]\n",
    "  [0 0 0]]]\n",
    "[[[1 1 1]\n",
    "  [1 1 1]\n",
    "  [1 1 1]]\n",
    "\n",
    " [[1 1 1]\n",
    "  [1 1 1]\n",
    "  [1 1 1]]\n",
    "\n",
    " [[1 1 1]\n",
    "  [1 1 1]\n",
    "  [1 1 1]]]\n",
    "\n",
    "Explanation 0\n",
    "\n",
    "Print the array built using numpy.zeros and numpy.ones tools and you get the result as shown. "
   ]
  },
  {
   "cell_type": "code",
   "execution_count": 2,
   "metadata": {},
   "outputs": [
    {
     "name": "stdout",
     "output_type": "stream",
     "text": [
      "3 3 3\n"
     ]
    }
   ],
   "source": [
    "dim = tuple(map(int,input().split()))"
   ]
  },
  {
   "cell_type": "code",
   "execution_count": 3,
   "metadata": {},
   "outputs": [],
   "source": [
    "import numpy as np\n"
   ]
  },
  {
   "cell_type": "code",
   "execution_count": 6,
   "metadata": {},
   "outputs": [
    {
     "data": {
      "text/plain": [
       "array([[[0, 0, 0],\n",
       "        [0, 0, 0],\n",
       "        [0, 0, 0]],\n",
       "\n",
       "       [[0, 0, 0],\n",
       "        [0, 0, 0],\n",
       "        [0, 0, 0]],\n",
       "\n",
       "       [[0, 0, 0],\n",
       "        [0, 0, 0],\n",
       "        [0, 0, 0]]])"
      ]
     },
     "execution_count": 6,
     "metadata": {},
     "output_type": "execute_result"
    }
   ],
   "source": [
    "np.zeros(dim,dtype=int)"
   ]
  },
  {
   "cell_type": "code",
   "execution_count": 7,
   "metadata": {},
   "outputs": [
    {
     "data": {
      "text/plain": [
       "array([[[1, 1, 1],\n",
       "        [1, 1, 1],\n",
       "        [1, 1, 1]],\n",
       "\n",
       "       [[1, 1, 1],\n",
       "        [1, 1, 1],\n",
       "        [1, 1, 1]],\n",
       "\n",
       "       [[1, 1, 1],\n",
       "        [1, 1, 1],\n",
       "        [1, 1, 1]]])"
      ]
     },
     "execution_count": 7,
     "metadata": {},
     "output_type": "execute_result"
    }
   ],
   "source": [
    "np.ones(dim,dtype=int)"
   ]
  },
  {
   "cell_type": "code",
   "execution_count": null,
   "metadata": {},
   "outputs": [],
   "source": []
  }
 ],
 "metadata": {
  "kernelspec": {
   "display_name": "Python 3",
   "language": "python",
   "name": "python3"
  },
  "language_info": {
   "codemirror_mode": {
    "name": "ipython",
    "version": 3
   },
   "file_extension": ".py",
   "mimetype": "text/x-python",
   "name": "python",
   "nbconvert_exporter": "python",
   "pygments_lexer": "ipython3",
   "version": "3.8.5"
  }
 },
 "nbformat": 4,
 "nbformat_minor": 4
}

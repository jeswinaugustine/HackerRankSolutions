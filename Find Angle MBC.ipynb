{
 "cells": [
  {
   "cell_type": "markdown",
   "metadata": {},
   "source": [
    " [rsz_1438840048-2cf71ed69d-findangle.png] is a right triangle, at .\n",
    "Therefore,\n",
    "\n",
    ".\n",
    "\n",
    "Point\n",
    "is the midpoint of hypotenuse\n",
    "\n",
    ".\n",
    "\n",
    "You are given the lengths\n",
    "and .\n",
    "Your task is to find (angle\n",
    "\n",
    ", as shown in the figure) in degrees.\n",
    "\n",
    "Input Format\n",
    "\n",
    "The first line contains the length of side\n",
    ".\n",
    "The second line contains the length of side\n",
    "\n",
    ".\n",
    "\n",
    "Constraints\n",
    "\n",
    "\n",
    "Lengths and\n",
    "\n",
    "    are natural numbers.\n",
    "\n",
    "Output Format\n",
    "\n",
    "Output\n",
    "\n",
    "in degrees.\n",
    "\n",
    "Note: Round the angle to the nearest integer.\n",
    "\n",
    "Examples:\n",
    "If angle is 56.5000001°, then output 57°.\n",
    "If angle is 56.5000000°, then output 57°.\n",
    "If angle is 56.4999999°, then output 56°.\n",
    "\n",
    "Sample Input\n",
    "\n",
    "10\n",
    "10\n",
    "\n",
    "Sample Output\n",
    "\n",
    "45°\n"
   ]
  },
  {
   "cell_type": "markdown",
   "metadata": {},
   "source": [
    "We can Solve this problem by using a property: ** That a median on the hypotenuse divides the right angled triangle in two isoceles triangle.** * Means AM=BM=CM * So, ∡MBC = ∡MCB "
   ]
  },
  {
   "cell_type": "code",
   "execution_count": 2,
   "metadata": {},
   "outputs": [
    {
     "name": "stdout",
     "output_type": "stream",
     "text": [
      "10\n",
      "10\n",
      "45°\n"
     ]
    }
   ],
   "source": [
    "import math \n",
    "\n",
    "degree_sign= u'\\N{DEGREE SIGN}'\n",
    "\n",
    "AB = int(input()) \n",
    "\n",
    "BC = int(input()) \n",
    "print (str(int(round(math.degrees(math.atan2(AB,BC))))) + degree_sign)"
   ]
  },
  {
   "cell_type": "code",
   "execution_count": null,
   "metadata": {},
   "outputs": [],
   "source": []
  }
 ],
 "metadata": {
  "kernelspec": {
   "display_name": "Python 3",
   "language": "python",
   "name": "python3"
  },
  "language_info": {
   "codemirror_mode": {
    "name": "ipython",
    "version": 3
   },
   "file_extension": ".py",
   "mimetype": "text/x-python",
   "name": "python",
   "nbconvert_exporter": "python",
   "pygments_lexer": "ipython3",
   "version": "3.8.5"
  }
 },
 "nbformat": 4,
 "nbformat_minor": 4
}

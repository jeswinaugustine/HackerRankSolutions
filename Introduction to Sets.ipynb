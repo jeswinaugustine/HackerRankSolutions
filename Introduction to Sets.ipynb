{
 "cells": [
  {
   "cell_type": "markdown",
   "metadata": {},
   "source": [
    "A set is an unordered collection of elements without duplicate entries.\n",
    "When printed, iterated or converted into a sequence, its elements will appear in an arbitrary order.\n",
    "\n",
    "Example\n",
    "\n",
    ">>> print set()\n",
    "set([])\n",
    "\n",
    ">>> print set('HackerRank')\n",
    "set(['a', 'c', 'e', 'H', 'k', 'n', 'r', 'R'])\n",
    "\n",
    ">>> print set([1,2,1,2,3,4,5,6,0,9,12,22,3])\n",
    "set([0, 1, 2, 3, 4, 5, 6, 9, 12, 22])\n",
    "\n",
    ">>> print set((1,2,3,4,5,5))\n",
    "set([1, 2, 3, 4, 5])\n",
    "\n",
    ">>> print set(set(['H','a','c','k','e','r','r','a','n','k']))\n",
    "set(['a', 'c', 'r', 'e', 'H', 'k', 'n'])\n",
    "\n",
    ">>> print set({'Hacker' : 'DOSHI', 'Rank' : 616 })\n",
    "set(['Hacker', 'Rank'])\n",
    "\n",
    ">>> print set(enumerate(['H','a','c','k','e','r','r','a','n','k']))\n",
    "set([(6, 'r'), (7, 'a'), (3, 'k'), (4, 'e'), (5, 'r'), (9, 'k'), (2, 'c'), (0, 'H'), (1, 'a'), (8, 'n')])\n",
    "\n",
    "Basically, sets are used for membership testing and eliminating duplicate entries.\n",
    "\n",
    "Task\n",
    "\n",
    "Now, let's use our knowledge of sets and help Mickey.\n",
    "\n",
    "Ms. Gabriel Williams is a botany professor at District College. One day, she asked her student Mickey to compute the average of all the plants with distinct heights in her greenhouse.\n",
    "\n",
    "Formula used:\n",
    "\n",
    "Function Description\n",
    "\n",
    "Complete the average function in the editor below.\n",
    "\n",
    "average has the following parameters:\n",
    "\n",
    "    int arr: an array of integers\n",
    "\n",
    "Returns\n",
    "\n",
    "    float: the resulting float value rounded to 3 places after the decimal\n",
    "\n",
    "Input Format\n",
    "\n",
    "The first line contains the integer,\n",
    ", the size of .\n",
    "The second line contains the space-separated integers,\n",
    "\n",
    ".\n",
    "\n",
    "Constraints\n",
    "\n",
    "Sample Input\n",
    "\n",
    "STDIN                                       Function\n",
    "-----                                       --------\n",
    "10                                          arr[] size N = 10\n",
    "161 182 161 154 176 170 167 171 170 174     arr = [161, 181, ..., 174]\n",
    "\n",
    "Sample Output\n",
    "\n",
    "169.375\n",
    "\n",
    "Explanation\n",
    "\n",
    "Here, set\n",
    "\n",
    "is the set containing the distinct heights. Using the sum() and len() functions, we can compute the average.\n",
    "\n"
   ]
  },
  {
   "cell_type": "code",
   "execution_count": 9,
   "metadata": {},
   "outputs": [],
   "source": [
    "def average(array):\n",
    "    # your code goes here\n",
    "    s1 = set(array)\n",
    "    return float(sum(s1)/len(s1))\n",
    "    \n"
   ]
  },
  {
   "cell_type": "code",
   "execution_count": 10,
   "metadata": {},
   "outputs": [
    {
     "name": "stdout",
     "output_type": "stream",
     "text": [
      "10\n",
      "161 182 161 154 176 170 167 171 170 174\n",
      "169.375\n"
     ]
    }
   ],
   "source": [
    "if __name__ == '__main__':\n",
    "    n = int(input())\n",
    "    arr = list(map(int, input().split()))\n",
    "    result = average(arr)\n",
    "    print(result)"
   ]
  },
  {
   "cell_type": "markdown",
   "metadata": {},
   "source": [
    "### "
   ]
  }
 ],
 "metadata": {
  "kernelspec": {
   "display_name": "Python 3",
   "language": "python",
   "name": "python3"
  },
  "language_info": {
   "codemirror_mode": {
    "name": "ipython",
    "version": 3
   },
   "file_extension": ".py",
   "mimetype": "text/x-python",
   "name": "python",
   "nbconvert_exporter": "python",
   "pygments_lexer": "ipython3",
   "version": "3.8.5"
  }
 },
 "nbformat": 4,
 "nbformat_minor": 4
}

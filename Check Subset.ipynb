{
 "cells": [
  {
   "cell_type": "markdown",
   "metadata": {},
   "source": [
    "You are given two sets, and .\n",
    "Your job is to find whether set is a subset of set .\n",
    "\n",
    "If set is subset of set , print True.\n",
    "If set is not a subset of set\n",
    "\n",
    ", print False.\n",
    "\n",
    "Input Format\n",
    "\n",
    "The first line will contain the number of test cases,\n",
    ".\n",
    "The first line of each test case contains the number of elements in set .\n",
    "The second line of each test case contains the space separated elements of set .\n",
    "The third line of each test case contains the number of elements in set .\n",
    "The fourth line of each test case contains the space separated elements of set\n",
    "\n",
    ".\n",
    "\n",
    "Constraints\n",
    "\n",
    "Output Format\n",
    "\n",
    "Output True or False for each test case on separate lines.\n",
    "\n",
    "Sample Input\n",
    "\n",
    "3\n",
    "5\n",
    "1 2 3 5 6\n",
    "9\n",
    "9 8 5 6 3 2 1 4 7\n",
    "1\n",
    "2\n",
    "5\n",
    "3 6 5 4 1\n",
    "7\n",
    "1 2 3 5 6 8 9\n",
    "3\n",
    "9 8 2\n",
    "\n",
    "Sample Output\n",
    "\n",
    "True \n",
    "False\n",
    "False\n",
    "\n",
    "Explanation\n",
    "\n",
    "Test Case 01 Explanation\n",
    "\n",
    "Set\n",
    "= {1 2 3 5 6}\n",
    "Set = {9 8 5 6 3 2 1 4 7}\n",
    "All the elements of set are elements of set .\n",
    "Hence, set is a subset of set ."
   ]
  },
  {
   "cell_type": "code",
   "execution_count": null,
   "metadata": {},
   "outputs": [],
   "source": []
  },
  {
   "cell_type": "code",
   "execution_count": 4,
   "metadata": {},
   "outputs": [
    {
     "name": "stdout",
     "output_type": "stream",
     "text": [
      "3\n"
     ]
    }
   ],
   "source": [
    "T = int(input())"
   ]
  },
  {
   "cell_type": "code",
   "execution_count": 6,
   "metadata": {},
   "outputs": [
    {
     "name": "stdout",
     "output_type": "stream",
     "text": [
      "5\n",
      "1 2 3 5 6\n",
      "9\n",
      "9 8 5 6 3 2 1 4 7\n",
      "True\n",
      "1\n",
      "2\n",
      "5\n",
      "3 6 5 4 1\n",
      "False\n",
      "7\n",
      "1 2 3 5 6 8 9\n",
      "3\n",
      "9 8 2\n",
      "False\n"
     ]
    }
   ],
   "source": [
    "## Method 1 \n",
    "for _ in range(T):\n",
    "    no_of_A = int(input())\n",
    "    ele_of_A = list(map(int,input().split()))\n",
    "    no_of_B = int(input())\n",
    "    ele_of_B = list(map(int,input().split()))\n",
    "    flag = 0\n",
    "    for i in ele_of_A:\n",
    "        if i in ele_of_B:\n",
    "            continue\n",
    "        else :\n",
    "            flag = 1\n",
    "            break\n",
    "    if flag :\n",
    "        print(\"False\")\n",
    "    else :\n",
    "        print(\"True\")"
   ]
  },
  {
   "cell_type": "code",
   "execution_count": null,
   "metadata": {},
   "outputs": [],
   "source": [
    "3\n",
    "5\n",
    "1 2 3 5 6\n",
    "9\n",
    "9 8 5 6 3 2 1 4 7\n",
    "1\n",
    "2\n",
    "5\n",
    "3 6 5 4 1\n",
    "7\n",
    "1 2 3 5 6 8 9\n",
    "3\n",
    "9 8 2"
   ]
  },
  {
   "cell_type": "code",
   "execution_count": 8,
   "metadata": {},
   "outputs": [
    {
     "name": "stdout",
     "output_type": "stream",
     "text": [
      "3\n",
      "5\n",
      "1 2 3 5 6\n",
      "9\n",
      "9 8 5 6 3 2 1 4 7\n",
      "True\n",
      "1\n",
      "2\n",
      "5\n",
      "3 6 5 4 1\n",
      "False\n",
      "7\n",
      "1 2 3 5 6 8 9\n",
      "3\n",
      "9 8 2\n",
      "False\n"
     ]
    }
   ],
   "source": [
    "## Method 2 : \n",
    "\n",
    "\n",
    "for _ in range(int(input())):\n",
    "    _, a, _, b = input(), set(input().split()), input(), set(input().split())\n",
    "    print(a.issubset(b))"
   ]
  },
  {
   "cell_type": "code",
   "execution_count": null,
   "metadata": {},
   "outputs": [],
   "source": []
  }
 ],
 "metadata": {
  "kernelspec": {
   "display_name": "Python 3",
   "language": "python",
   "name": "python3"
  },
  "language_info": {
   "codemirror_mode": {
    "name": "ipython",
    "version": 3
   },
   "file_extension": ".py",
   "mimetype": "text/x-python",
   "name": "python",
   "nbconvert_exporter": "python",
   "pygments_lexer": "ipython3",
   "version": "3.8.5"
  }
 },
 "nbformat": 4,
 "nbformat_minor": 4
}

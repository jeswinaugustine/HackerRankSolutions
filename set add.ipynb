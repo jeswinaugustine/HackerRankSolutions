{
 "cells": [
  {
   "cell_type": "markdown",
   "metadata": {},
   "source": [
    "# Set .add()"
   ]
  },
  {
   "cell_type": "markdown",
   "metadata": {},
   "source": [
    "If we want to add a single element to an existing set, we can use the .add() operation.\n",
    "It adds the element to the set and returns 'None'.\n",
    "\n",
    "Example\n",
    "\n",
    ">>> s = set('HackerRank')\n",
    ">>> s.add('H')\n",
    ">>> print s\n",
    "set(['a', 'c', 'e', 'H', 'k', 'n', 'r', 'R'])\n",
    ">>> print s.add('HackerRank')\n",
    "None\n",
    ">>> print s\n",
    "set(['a', 'c', 'e', 'HackerRank', 'H', 'k', 'n', 'r', 'R'])\n",
    "\n",
    "\n",
    "Task\n",
    "\n",
    "Apply your knowledge of the .add() operation to help your friend Rupal.\n",
    "\n",
    "Rupal has a huge collection of country stamps. She decided to count the total number of distinct country stamps in her collection. She asked for your help. You pick the stamps one by one from a stack of\n",
    "\n",
    "country stamps.\n",
    "\n",
    "Find the total number of distinct country stamps.\n",
    "\n",
    "Input Format\n",
    "\n",
    "The first line contains an integer\n",
    ", the total number of country stamps.\n",
    "The next\n",
    "\n",
    "lines contains the name of the country where the stamp is from.\n",
    "\n",
    "Constraints\n",
    "\n",
    "Output Format\n",
    "\n",
    "Output the total number of distinct country stamps on a single line.\n",
    "\n",
    "Sample Input\n",
    "\n",
    "7\n",
    "UK\n",
    "China\n",
    "USA\n",
    "France\n",
    "New Zealand\n",
    "UK\n",
    "France \n",
    "\n",
    "Sample Output\n",
    "\n",
    "5\n",
    "\n",
    "Explanation\n",
    "\n",
    "UK and France repeat twice. Hence, the total number of distinct country stamps is\n",
    "(five)."
   ]
  },
  {
   "cell_type": "code",
   "execution_count": null,
   "metadata": {},
   "outputs": [],
   "source": []
  },
  {
   "cell_type": "code",
   "execution_count": 1,
   "metadata": {},
   "outputs": [
    {
     "name": "stdout",
     "output_type": "stream",
     "text": [
      "7\n"
     ]
    }
   ],
   "source": [
    "N = int(input())"
   ]
  },
  {
   "cell_type": "code",
   "execution_count": 2,
   "metadata": {},
   "outputs": [
    {
     "name": "stdout",
     "output_type": "stream",
     "text": [
      "UK\n",
      "China\n",
      "USA\n",
      "France\n",
      "UK\n",
      "New Zealand\n",
      "France\n"
     ]
    }
   ],
   "source": [
    "country = []\n",
    "for i in range(N):\n",
    "    country.append(input())"
   ]
  },
  {
   "cell_type": "code",
   "execution_count": 6,
   "metadata": {},
   "outputs": [
    {
     "data": {
      "text/plain": [
       "5"
      ]
     },
     "execution_count": 6,
     "metadata": {},
     "output_type": "execute_result"
    }
   ],
   "source": [
    "len(set(country))"
   ]
  },
  {
   "cell_type": "code",
   "execution_count": null,
   "metadata": {},
   "outputs": [],
   "source": []
  }
 ],
 "metadata": {
  "kernelspec": {
   "display_name": "Python 3",
   "language": "python",
   "name": "python3"
  },
  "language_info": {
   "codemirror_mode": {
    "name": "ipython",
    "version": 3
   },
   "file_extension": ".py",
   "mimetype": "text/x-python",
   "name": "python",
   "nbconvert_exporter": "python",
   "pygments_lexer": "ipython3",
   "version": "3.8.5"
  }
 },
 "nbformat": 4,
 "nbformat_minor": 4
}

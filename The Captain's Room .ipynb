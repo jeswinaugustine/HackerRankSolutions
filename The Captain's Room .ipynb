{
 "cells": [
  {
   "cell_type": "markdown",
   "metadata": {},
   "source": [
    "Mr. Anant Asankhya is the manager at the INFINITE hotel. The hotel has an infinite amount of rooms.\n",
    "\n",
    "One fine day, a finite number of tourists come to stay at the hotel.\n",
    "The tourists consist of:\n",
    "→ A Captain.\n",
    "→ An unknown group of families consisting of\n",
    "members per group where ≠\n",
    "\n",
    ".\n",
    "\n",
    "The Captain was given a separate room, and the rest were given one room per group.\n",
    "\n",
    "Mr. Anant has an unordered list of randomly arranged room entries. The list consists of the room numbers for all of the tourists. The room numbers will appear\n",
    "\n",
    "times per group except for the Captain's room.\n",
    "\n",
    "Mr. Anant needs you to help him find the Captain's room number.\n",
    "The total number of tourists or the total number of groups of families is not known to you.\n",
    "You only know the value of\n",
    "\n",
    "and the room number list.\n",
    "\n",
    "Input Format\n",
    "\n",
    "The first line consists of an integer,\n",
    "\n",
    ", the size of each group.\n",
    "The second line contains the unordered elements of the room number list.\n",
    "\n",
    "Constraints\n",
    "\n",
    "Output Format\n",
    "\n",
    "Output the Captain's room number.\n",
    "\n",
    "Sample Input\n",
    "\n",
    "5\n",
    "1 2 3 6 5 4 4 2 5 3 6 1 6 5 3 2 4 1 2 5 1 4 3 6 8 4 3 1 5 6 2 \n",
    "\n",
    "Sample Output\n",
    "\n",
    "8\n",
    "\n",
    "Explanation\n",
    "\n",
    "The list of room numbers contains\n",
    "elements. Since is , there must be groups of families. In the given list, all of the numbers repeat times except for room number .\n",
    "Hence, is the Captain's room number."
   ]
  },
  {
   "cell_type": "code",
   "execution_count": 23,
   "metadata": {},
   "outputs": [
    {
     "name": "stdout",
     "output_type": "stream",
     "text": [
      "5\n"
     ]
    }
   ],
   "source": [
    "K = int(input())"
   ]
  },
  {
   "cell_type": "code",
   "execution_count": 5,
   "metadata": {},
   "outputs": [
    {
     "name": "stdout",
     "output_type": "stream",
     "text": [
      "1 2 3 6 5 4 4 2 5 3 6 1 6 5 3 2 4 1 2 5 1 4 3 6 8 4 3 1 5 6 2\n"
     ]
    }
   ],
   "source": [
    "room_list = list(map(int,input().split()))"
   ]
  },
  {
   "cell_type": "code",
   "execution_count": 27,
   "metadata": {},
   "outputs": [
    {
     "name": "stdout",
     "output_type": "stream",
     "text": [
      "8\n"
     ]
    }
   ],
   "source": [
    "# Method 1 : using Collection counters\n",
    "\n",
    "from collections import Counter\n",
    "count = Counter(room_list)\n",
    "for ele in count:\n",
    "    if count[ele] != K :\n",
    "        print(ele)"
   ]
  },
  {
   "cell_type": "code",
   "execution_count": 30,
   "metadata": {},
   "outputs": [
    {
     "name": "stdout",
     "output_type": "stream",
     "text": [
      "5\n",
      "1 2 3 6 5 4 4 2 5 3 6 1 6 5 3 2 4 1 2 5 1 4 3 6 8 4 3 1 5 6 2\n",
      "8\n"
     ]
    }
   ],
   "source": [
    "## Method 2 : using Sets()\n",
    "\n",
    "K = input();  #get rid of first line \n",
    "room_list = list(map(int,input().split()))  #store all to array\n",
    "s1 = set();  #all unique room number\n",
    "s2 = set();  #all unique room number occur more than once\n",
    "for i in room_list:\n",
    "    if  i in s1:\n",
    "        s2.add(i);\n",
    "    else:\n",
    "        s1.add(i);\n",
    "        \n",
    "s3=s1.difference(s2);\n",
    "\n",
    "print (list(s3)[0])"
   ]
  },
  {
   "cell_type": "code",
   "execution_count": 26,
   "metadata": {},
   "outputs": [
    {
     "name": "stdout",
     "output_type": "stream",
     "text": [
      "8\n"
     ]
    }
   ],
   "source": []
  },
  {
   "cell_type": "code",
   "execution_count": null,
   "metadata": {},
   "outputs": [],
   "source": []
  }
 ],
 "metadata": {
  "kernelspec": {
   "display_name": "Python 3",
   "language": "python",
   "name": "python3"
  },
  "language_info": {
   "codemirror_mode": {
    "name": "ipython",
    "version": 3
   },
   "file_extension": ".py",
   "mimetype": "text/x-python",
   "name": "python",
   "nbconvert_exporter": "python",
   "pygments_lexer": "ipython3",
   "version": "3.8.5"
  }
 },
 "nbformat": 4,
 "nbformat_minor": 4
}

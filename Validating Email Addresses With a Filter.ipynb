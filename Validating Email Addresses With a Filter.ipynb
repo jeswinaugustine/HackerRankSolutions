{
 "cells": [
  {
   "cell_type": "markdown",
   "metadata": {},
   "source": [
    "You are given an integer followed by\n",
    "\n",
    "email addresses. Your task is to print a list containing only valid email addresses in lexicographical order.\n",
    "\n",
    "Valid email addresses must follow these rules:\n",
    "\n",
    "    It must have the username@websitename.extension format type.\n",
    "    The username can only contain letters, digits, dashes and underscores.\n",
    "    The website name can only have letters and digits.\n",
    "    The maximum length of the extension is \n",
    "\n",
    "    .\n",
    "\n",
    "Concept\n",
    "\n",
    "A filter takes a function returning True or False and applies it to a sequence, returning a list of only those members of the sequence where the function returned True. A Lambda function can be used with filters.\n",
    "\n",
    "Let's say you have to make a list of the squares of integers from\n",
    "to\n",
    "\n",
    "(both included).\n",
    "\n",
    ">> l = list(range(10))\n",
    ">> l = list(map(lambda x:x*x, l))\n",
    "\n",
    "Now, you only require those elements that are greater than\n",
    "but less than\n",
    "\n",
    ".\n",
    "\n",
    ">> l = list(filter(lambda x: x > 10 and x < 80, l))\n",
    "\n",
    "Easy, isn't it?\n",
    "\n",
    "Input Format\n",
    "\n",
    "The first line of input is the integer\n",
    ", the number of email addresses.\n",
    "\n",
    "lines follow, each containing a string.\n",
    "\n",
    "Constraints\n",
    "\n",
    "Each line is a non-empty string.\n",
    "\n",
    "Output Format\n",
    "\n",
    "Output a list containing the valid email addresses in lexicographical order. If the list is empty, just output an empty list, [].\n",
    "\n",
    "Sample Input\n",
    "\n",
    "3\n",
    "lara@hackerrank.com\n",
    "brian-23@hackerrank.com\n",
    "britts_54@hackerrank.com\n",
    "\n",
    "Sample Output\n",
    "\n",
    "['brian-23@hackerrank.com', 'britts_54@hackerrank.com', 'lara@hackerrank.com']\n"
   ]
  },
  {
   "cell_type": "code",
   "execution_count": 30,
   "metadata": {},
   "outputs": [],
   "source": [
    "def fun(s):\n",
    "    # return True if s is a valid email, else return False\n",
    "    try:\n",
    "        prefix,rest= s.split('@')\n",
    "        domain,extention = rest.split('.')\n",
    "    except ValueError:\n",
    "        return False\n",
    "    \n",
    "    if ( prefix.replace('-','').replace('_','').isalnum() is False ):\n",
    "        return False \n",
    "    \n",
    "    if (domain.isalnum() is False):\n",
    "        return False\n",
    "    \n",
    "    if len(extention) > 3 :\n",
    "        return False\n",
    "    \n",
    "    return True"
   ]
  },
  {
   "cell_type": "code",
   "execution_count": 13,
   "metadata": {},
   "outputs": [
    {
     "name": "stdout",
     "output_type": "stream",
     "text": [
      "1\n",
      "brian-23@hackerrank.com\n",
      "brian-23   hackerrank.com   hackerrank   com\n",
      "[]\n"
     ]
    }
   ],
   "source": [
    "def filter_mail(emails):\n",
    "    return list(filter(fun, emails))\n",
    "\n",
    "if __name__ == '__main__':\n",
    "    n = int(input())\n",
    "    emails = []\n",
    "    for _ in range(n):\n",
    "        emails.append(input())\n",
    "\n",
    "filtered_emails = filter_mail(emails)\n",
    "filtered_emails.sort()\n",
    "print(filtered_emails)"
   ]
  },
  {
   "cell_type": "code",
   "execution_count": 31,
   "metadata": {},
   "outputs": [
    {
     "data": {
      "text/plain": [
       "True"
      ]
     },
     "execution_count": 31,
     "metadata": {},
     "output_type": "execute_result"
    }
   ],
   "source": [
    "fun(\"brian-23@hackerrank.com\")\n",
    "\n"
   ]
  },
  {
   "cell_type": "code",
   "execution_count": 32,
   "metadata": {},
   "outputs": [
    {
     "data": {
      "text/plain": [
       "True"
      ]
     },
     "execution_count": 32,
     "metadata": {},
     "output_type": "execute_result"
    }
   ],
   "source": [
    "fun(\"lara@hackerrank.com\")"
   ]
  },
  {
   "cell_type": "code",
   "execution_count": 33,
   "metadata": {},
   "outputs": [
    {
     "data": {
      "text/plain": [
       "True"
      ]
     },
     "execution_count": 33,
     "metadata": {},
     "output_type": "execute_result"
    }
   ],
   "source": [
    "fun(\"britts_54@hackerrank.com\")"
   ]
  },
  {
   "cell_type": "code",
   "execution_count": null,
   "metadata": {},
   "outputs": [],
   "source": []
  }
 ],
 "metadata": {
  "kernelspec": {
   "display_name": "Python 3",
   "language": "python",
   "name": "python3"
  },
  "language_info": {
   "codemirror_mode": {
    "name": "ipython",
    "version": 3
   },
   "file_extension": ".py",
   "mimetype": "text/x-python",
   "name": "python",
   "nbconvert_exporter": "python",
   "pygments_lexer": "ipython3",
   "version": "3.8.5"
  }
 },
 "nbformat": 4,
 "nbformat_minor": 4
}

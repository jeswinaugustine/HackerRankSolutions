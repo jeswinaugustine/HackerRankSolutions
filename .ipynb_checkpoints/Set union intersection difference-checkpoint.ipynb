{
 "cells": [
  {
   "cell_type": "markdown",
   "metadata": {},
   "source": [
    "### Set .union() Operation"
   ]
  },
  {
   "cell_type": "markdown",
   "metadata": {},
   "source": [
    ".union()\n",
    "\n",
    "The .union() operator returns the union of a set and the set of elements in an iterable.\n",
    "Sometimes, the | operator is used in place of .union() operator, but it operates only on the set of elements in set.\n",
    "Set is immutable to the .union() operation (or | operation).\n",
    "\n",
    "Example\n",
    "\n",
    ">>> s = set(\"Hacker\")\n",
    ">>> print s.union(\"Rank\")\n",
    "set(['a', 'R', 'c', 'r', 'e', 'H', 'k', 'n'])\n",
    "\n",
    ">>> print s.union(set(['R', 'a', 'n', 'k']))\n",
    "set(['a', 'R', 'c', 'r', 'e', 'H', 'k', 'n'])\n",
    "\n",
    ">>> print s.union(['R', 'a', 'n', 'k'])\n",
    "set(['a', 'R', 'c', 'r', 'e', 'H', 'k', 'n'])\n",
    "\n",
    ">>> print s.union(enumerate(['R', 'a', 'n', 'k']))\n",
    "set(['a', 'c', 'r', 'e', (1, 'a'), (2, 'n'), 'H', 'k', (3, 'k'), (0, 'R')])\n",
    "\n",
    ">>> print s.union({\"Rank\":1})\n",
    "set(['a', 'c', 'r', 'e', 'H', 'k', 'Rank'])\n",
    "\n",
    ">>> s | set(\"Rank\")\n",
    "set(['a', 'R', 'c', 'r', 'e', 'H', 'k', 'n'])\n",
    "\n",
    "Task\n",
    "\n",
    "The students of District College have subscriptions to English and French newspapers. Some students have subscribed only to English, some have subscribed to only French and some have subscribed to both newspapers.\n",
    "\n",
    "You are given two sets of student roll numbers. One set has subscribed to the English newspaper, and the other set is subscribed to the French newspaper. The same student could be in both sets. Your task is to find the total number of students who have subscribed to at least one newspaper.\n",
    "\n",
    "Input Format\n",
    "\n",
    "The first line contains an integer,\n",
    ", the number of students who have subscribed to the English newspaper.\n",
    "The second line contains space separated roll numbers of those students.\n",
    "The third line contains , the number of students who have subscribed to the French newspaper.\n",
    "The fourth line contains\n",
    "\n",
    "space separated roll numbers of those students.\n",
    "\n",
    "Constraints\n",
    "\n",
    "Output Format\n",
    "\n",
    "Output the total number of students who have at least one subscription.\n",
    "\n",
    "Sample Input\n",
    "\n",
    "9\n",
    "1 2 3 4 5 6 7 8 9\n",
    "9\n",
    "10 1 2 3 11 21 55 6 8\n",
    "\n",
    "Sample Output\n",
    "\n",
    "13\n",
    "\n",
    "Explanation\n",
    "\n",
    "Roll numbers of students who have at least one subscription:\n",
    "and . Roll numbers: and are in both sets so they are only counted once.\n",
    "Hence, the total is students."
   ]
  },
  {
   "cell_type": "code",
   "execution_count": null,
   "metadata": {},
   "outputs": [],
   "source": []
  },
  {
   "cell_type": "code",
   "execution_count": 1,
   "metadata": {},
   "outputs": [
    {
     "name": "stdout",
     "output_type": "stream",
     "text": [
      "10\n"
     ]
    }
   ],
   "source": [
    "no_eng = int(input())"
   ]
  },
  {
   "cell_type": "code",
   "execution_count": 14,
   "metadata": {},
   "outputs": [
    {
     "name": "stdout",
     "output_type": "stream",
     "text": [
      "9\n",
      "1 2 3 4 5 6 7 8 9\n",
      "9\n",
      "10 1 2 3 11 21 55 6 8\n"
     ]
    }
   ],
   "source": [
    "no_eng = int(input())\n",
    "eng=set(map(int,input().split()))\n",
    "    \n",
    "no_french = int(input())\n",
    "french=set(map(int,input().split()))"
   ]
  },
  {
   "cell_type": "code",
   "execution_count": null,
   "metadata": {},
   "outputs": [],
   "source": [
    "9\n",
    "1 2 3 4 5 6 7 8 9\n",
    "9\n",
    "10 1 2 3 11 21 55 6 8"
   ]
  },
  {
   "cell_type": "code",
   "execution_count": 15,
   "metadata": {},
   "outputs": [
    {
     "name": "stdout",
     "output_type": "stream",
     "text": [
      "{1, 2, 3, 4, 5, 6, 7, 8, 9}\n",
      "{1, 2, 3, 6, 8, 10, 11, 21, 55}\n",
      "{1, 2, 3, 4, 5, 6, 7, 8, 9, 10, 11, 21, 55}\n"
     ]
    }
   ],
   "source": [
    "print(eng)\n",
    "print(french)\n",
    "print( eng.union(french))"
   ]
  },
  {
   "cell_type": "code",
   "execution_count": null,
   "metadata": {},
   "outputs": [],
   "source": [
    "\n",
    "\n"
   ]
  },
  {
   "cell_type": "code",
   "execution_count": null,
   "metadata": {},
   "outputs": [],
   "source": []
  },
  {
   "cell_type": "code",
   "execution_count": null,
   "metadata": {},
   "outputs": [],
   "source": [
    "### Final \n",
    "\n",
    "no_eng = int(input())\n",
    "eng=set(map(int,input().split()))\n",
    "    \n",
    "no_french = int(input())\n",
    "french=set(map(int,input().split()))\n",
    "print( len(eng.union(french)))"
   ]
  }
 ],
 "metadata": {
  "kernelspec": {
   "display_name": "Python 3",
   "language": "python",
   "name": "python3"
  },
  "language_info": {
   "codemirror_mode": {
    "name": "ipython",
    "version": 3
   },
   "file_extension": ".py",
   "mimetype": "text/x-python",
   "name": "python",
   "nbconvert_exporter": "python",
   "pygments_lexer": "ipython3",
   "version": "3.8.5"
  }
 },
 "nbformat": 4,
 "nbformat_minor": 4
}

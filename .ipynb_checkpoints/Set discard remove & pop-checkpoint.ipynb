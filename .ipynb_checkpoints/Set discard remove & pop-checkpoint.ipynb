{
 "cells": [
  {
   "cell_type": "markdown",
   "metadata": {},
   "source": [
    "## Set .discard(), .remove() & .pop()"
   ]
  },
  {
   "cell_type": "markdown",
   "metadata": {},
   "source": [
    ".remove(x)\n",
    "\n",
    "This operation removes element\n",
    "from the set.\n",
    "If element\n",
    "\n",
    "does not exist, it raises a KeyError.\n",
    "The .remove(x) operation returns None.\n",
    "\n",
    "Example\n",
    "\n",
    ">>> s = set([1, 2, 3, 4, 5, 6, 7, 8, 9])\n",
    ">>> s.remove(5)\n",
    ">>> print s\n",
    "set([1, 2, 3, 4, 6, 7, 8, 9])\n",
    ">>> print s.remove(4)\n",
    "None\n",
    ">>> print s\n",
    "set([1, 2, 3, 6, 7, 8, 9])\n",
    ">>> s.remove(0)\n",
    "KeyError: 0\n",
    "\n",
    ".discard(x)\n",
    "\n",
    "This operation also removes element\n",
    "from the set.\n",
    "If element\n",
    "\n",
    "does not exist, it does not raise a KeyError.\n",
    "The .discard(x) operation returns None.\n",
    "\n",
    "Example\n",
    "\n",
    ">>> s = set([1, 2, 3, 4, 5, 6, 7, 8, 9])\n",
    ">>> s.discard(5)\n",
    ">>> print s\n",
    "set([1, 2, 3, 4, 6, 7, 8, 9])\n",
    ">>> print s.discard(4)\n",
    "None\n",
    ">>> print s\n",
    "set([1, 2, 3, 6, 7, 8, 9])\n",
    ">>> s.discard(0)\n",
    ">>> print s\n",
    "set([1, 2, 3, 6, 7, 8, 9])\n",
    "\n",
    ".pop()\n",
    "\n",
    "This operation removes and return an arbitrary element from the set.\n",
    "If there are no elements to remove, it raises a KeyError.\n",
    "\n",
    "Example\n",
    "\n",
    ">>> s = set([1])\n",
    ">>> print s.pop()\n",
    "1\n",
    ">>> print s\n",
    "set([])\n",
    ">>> print s.pop()\n",
    "KeyError: pop from an empty set\n",
    "\n",
    "Task\n",
    "\n",
    "You have a non-empty set\n",
    ", and you have to execute commands given in\n",
    "\n",
    "lines.\n",
    "\n",
    "The commands will be pop, remove and discard.\n",
    "\n",
    "Input Format\n",
    "\n",
    "The first line contains integer\n",
    ", the number of elements in the set .\n",
    "The second line contains space separated elements of set . All of the elements are non-negative integers, less than or equal to 9.\n",
    "The third line contains integer , the number of commands.\n",
    "The next\n",
    "\n",
    "lines contains either pop, remove and/or discard commands followed by their associated value.\n",
    "\n",
    "Constraints\n",
    "\n",
    "\n",
    "Output Format\n",
    "\n",
    "Print the sum of the elements of set\n",
    "\n",
    "on a single line.\n",
    "\n",
    "Sample Input\n",
    "\n",
    "9\n",
    "1 2 3 4 5 6 7 8 9\n",
    "10\n",
    "pop\n",
    "remove 9\n",
    "discard 9\n",
    "discard 8\n",
    "remove 7\n",
    "pop \n",
    "discard 6\n",
    "remove 5\n",
    "pop \n",
    "discard 5\n",
    "\n",
    "Sample Output\n",
    "\n",
    "4\n",
    "\n",
    "Explanation\n",
    "\n",
    "After completing these\n",
    "operations on the set, we get set. Hence, the sum is\n",
    "\n",
    ".\n",
    "\n",
    "Note: Convert the elements of set s to integers while you are assigning them. To ensure the proper input of the set, we have added the first two lines of code to the editor."
   ]
  },
  {
   "cell_type": "code",
   "execution_count": null,
   "metadata": {},
   "outputs": [],
   "source": []
  },
  {
   "cell_type": "code",
   "execution_count": 17,
   "metadata": {},
   "outputs": [
    {
     "name": "stdout",
     "output_type": "stream",
     "text": [
      "9\n",
      "1 2 3 4 5 6 7 8 9\n"
     ]
    }
   ],
   "source": [
    "n = int(input())\n",
    "s = set(map(int, input().split()))"
   ]
  },
  {
   "cell_type": "code",
   "execution_count": 18,
   "metadata": {},
   "outputs": [
    {
     "name": "stdout",
     "output_type": "stream",
     "text": [
      "10\n"
     ]
    }
   ],
   "source": [
    "no_op = int(input())"
   ]
  },
  {
   "cell_type": "code",
   "execution_count": 19,
   "metadata": {},
   "outputs": [
    {
     "name": "stdout",
     "output_type": "stream",
     "text": [
      "pop\n",
      "remove 9\n",
      "discard 9\n",
      "discard 8\n",
      "remove 7\n",
      "pop\n",
      "discard 6\n",
      "remove 5\n",
      "pop\n",
      "discard 5\n",
      "4\n"
     ]
    }
   ],
   "source": [
    "\n",
    "for i in range(no_op):\n",
    "    op = list(input().split())\n",
    "    if op[0] == \"pop\":\n",
    "        s.pop()\n",
    "    elif op[0] == \"remove\" :\n",
    "        s.remove(int(op[1]))\n",
    "    elif op[0] == \"discard\":\n",
    "        s.discard(int(op[1]))\n",
    "    \n",
    "print(sum(s))\n"
   ]
  },
  {
   "cell_type": "markdown",
   "metadata": {},
   "source": [
    "## action \n",
    "pop\n",
    "remove 9\n",
    "discard 9\n",
    "discard 8\n",
    "remove 7\n",
    "pop \n",
    "discard 6\n",
    "remove 5\n",
    "pop \n",
    "discard 5"
   ]
  },
  {
   "cell_type": "code",
   "execution_count": 20,
   "metadata": {},
   "outputs": [
    {
     "name": "stdout",
     "output_type": "stream",
     "text": [
      "9\n",
      "1 2 3 4 5 6 7 8 9\n",
      "10\n",
      "pop\n",
      "remove 9\n",
      "discard 9\n",
      "discard 8\n",
      "remove 7\n",
      "pop\n",
      "discard 6\n",
      "remove 5\n",
      "pop\n",
      "discard 5\n",
      "4\n"
     ]
    }
   ],
   "source": [
    "## Method 2 : using dictionary\n",
    "\n",
    "n = int(input())\n",
    "s = set(map(int, input().split()))\n",
    "d = {\"pop\":s.pop, \"remove\":s.remove, \"discard\": s.discard}\n",
    "for _ in range(int(input())):\n",
    "    c = input().split()\n",
    "    d[c[0]](int(c[1])) if len(c)>1 else d[c[0]]()\n",
    "print(sum(s))"
   ]
  },
  {
   "cell_type": "code",
   "execution_count": null,
   "metadata": {},
   "outputs": [],
   "source": []
  }
 ],
 "metadata": {
  "kernelspec": {
   "display_name": "Python 3",
   "language": "python",
   "name": "python3"
  },
  "language_info": {
   "codemirror_mode": {
    "name": "ipython",
    "version": 3
   },
   "file_extension": ".py",
   "mimetype": "text/x-python",
   "name": "python",
   "nbconvert_exporter": "python",
   "pygments_lexer": "ipython3",
   "version": "3.8.5"
  }
 },
 "nbformat": 4,
 "nbformat_minor": 4
}

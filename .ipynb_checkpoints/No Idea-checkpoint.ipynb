{
 "cells": [
  {
   "cell_type": "markdown",
   "metadata": {},
   "source": [
    "There is an array of integers. There are also disjoint sets, and , each containing integers. You like all the integers in set and dislike all the integers in set . Your initial happiness is . For each integer in the array, if , you add to your happiness. If , you add\n",
    "\n",
    "to your happiness. Otherwise, your happiness does not change. Output your final happiness at the end.\n",
    "\n",
    "Note: Since\n",
    "and\n",
    "\n",
    "are sets, they have no repeated elements. However, the array might contain duplicate elements.\n",
    "\n",
    "Constraints\n",
    "\n",
    "\n",
    "Input Format\n",
    "\n",
    "The first line contains integers\n",
    "and separated by a space.\n",
    "The second line contains integers, the elements of the array.\n",
    "The third and fourth lines contain integers, and\n",
    "\n",
    ", respectively.\n",
    "\n",
    "Output Format\n",
    "\n",
    "Output a single integer, your total happiness.\n",
    "\n",
    "Sample Input\n",
    "\n",
    "3 2\n",
    "1 5 3\n",
    "3 1\n",
    "5 7\n",
    "\n",
    "Sample Output\n",
    "\n",
    "1\n",
    "\n",
    "Explanation\n",
    "\n",
    "You gain\n",
    "unit of happiness for elements and in set . You lose unit for in set . The element in set\n",
    "\n",
    "does not exist in the array so it is not included in the calculation.\n",
    "\n",
    "Hence, the total happiness is\n",
    "."
   ]
  },
  {
   "cell_type": "code",
   "execution_count": null,
   "metadata": {},
   "outputs": [],
   "source": [
    "## input \n",
    "3 2\n",
    "1 5 3\n",
    "3 1\n",
    "5 7"
   ]
  },
  {
   "cell_type": "code",
   "execution_count": 5,
   "metadata": {},
   "outputs": [
    {
     "name": "stdout",
     "output_type": "stream",
     "text": [
      "3 2\n"
     ]
    }
   ],
   "source": [
    "n,m = map(int,input().split())"
   ]
  },
  {
   "cell_type": "code",
   "execution_count": 6,
   "metadata": {},
   "outputs": [
    {
     "name": "stdout",
     "output_type": "stream",
     "text": [
      "1 5 3\n",
      "3 1\n",
      "5 7\n"
     ]
    }
   ],
   "source": [
    " array,eleA,eleB = list(map(int,input().split())) , list(map(int,input().split())) , list(map(int,input().split()))"
   ]
  },
  {
   "cell_type": "code",
   "execution_count": 9,
   "metadata": {},
   "outputs": [
    {
     "name": "stdout",
     "output_type": "stream",
     "text": [
      "1\n"
     ]
    }
   ],
   "source": [
    "happiness = 0 \n",
    "\n",
    "for i in range(m):\n",
    "    if eleA[i] in array :\n",
    "        happiness += 1\n",
    "        \n",
    "    if eleB[i] in array:\n",
    "        happiness -= 1\n",
    "\n",
    "print(happiness)"
   ]
  },
  {
   "cell_type": "code",
   "execution_count": null,
   "metadata": {},
   "outputs": [],
   "source": [
    "### Final submission \n",
    "n,m = map(int,input().split())\n",
    "array,eleA,eleB = input().split(), set(input().split()), set(input().split())\n",
    "print(sum((i in eleA) - (i in eleB) for i in array))"
   ]
  },
  {
   "cell_type": "code",
   "execution_count": null,
   "metadata": {},
   "outputs": [],
   "source": []
  }
 ],
 "metadata": {
  "kernelspec": {
   "display_name": "Python 3",
   "language": "python",
   "name": "python3"
  },
  "language_info": {
   "codemirror_mode": {
    "name": "ipython",
    "version": 3
   },
   "file_extension": ".py",
   "mimetype": "text/x-python",
   "name": "python",
   "nbconvert_exporter": "python",
   "pygments_lexer": "ipython3",
   "version": "3.8.5"
  }
 },
 "nbformat": 4,
 "nbformat_minor": 4
}

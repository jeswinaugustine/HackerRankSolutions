{
 "cells": [
  {
   "cell_type": "markdown",
   "metadata": {},
   "source": [
    " This challenge is only forPython 2.\n",
    "input()\n",
    "\n",
    "In Python 2, the expression input() is equivalent to eval(raw _input(prompt)).\n",
    "\n",
    "Code\n",
    "\n",
    ">>> input()  \n",
    "1+2\n",
    "3\n",
    ">>> company = 'HackerRank'\n",
    ">>> website = 'www.hackerrank.com'\n",
    ">>> input()\n",
    "'The company name: '+company+' and website: '+website\n",
    "'The company name: HackerRank and website: www.hackerrank.com'\n",
    "\n",
    "Task\n",
    "\n",
    "You are given a polynomial\n",
    "of a single indeterminate (or variable), .\n",
    "You are also given the values of and . Your task is to verify if\n",
    "\n",
    ".\n",
    "\n",
    "Constraints\n",
    "All coefficients of polynomial\n",
    "are integers.\n",
    "and\n",
    "\n",
    "are also integers.\n",
    "\n",
    "Input Format\n",
    "\n",
    "The first line contains the space separated values of\n",
    "and .\n",
    "The second line contains the polynomial\n",
    "\n",
    ".\n",
    "\n",
    "Output Format\n",
    "\n",
    "Print True if\n",
    "\n",
    ". Otherwise, print False.\n",
    "\n",
    "Sample Input\n",
    "\n",
    "1 4\n",
    "x**3 + x**2 + x + 1\n",
    "\n",
    "Sample Output\n",
    "\n",
    "True\n",
    "\n",
    "Explanation\n",
    "\n",
    "\n",
    "Hence, the output is True."
   ]
  },
  {
   "cell_type": "code",
   "execution_count": 3,
   "metadata": {},
   "outputs": [
    {
     "name": "stdout",
     "output_type": "stream",
     "text": [
      "1 4\n",
      "x**3 + x**2 + x + 1\n",
      "True\n"
     ]
    }
   ],
   "source": [
    "x,k = map(int,input().split())\n",
    "print (k == eval(input()))"
   ]
  },
  {
   "cell_type": "code",
   "execution_count": null,
   "metadata": {},
   "outputs": [],
   "source": [
    "eval()"
   ]
  }
 ],
 "metadata": {
  "kernelspec": {
   "display_name": "Python 3",
   "language": "python",
   "name": "python3"
  },
  "language_info": {
   "codemirror_mode": {
    "name": "ipython",
    "version": 3
   },
   "file_extension": ".py",
   "mimetype": "text/x-python",
   "name": "python",
   "nbconvert_exporter": "python",
   "pygments_lexer": "ipython3",
   "version": "3.8.5"
  }
 },
 "nbformat": 4,
 "nbformat_minor": 4
}

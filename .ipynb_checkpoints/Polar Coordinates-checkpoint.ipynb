{
 "cells": [
  {
   "cell_type": "markdown",
   "metadata": {},
   "source": [
    "Polar coordinates are an alternative way of representing Cartesian coordinates or Complex Numbers.\n",
    "\n",
    "A complex number\n",
    "\n",
    "[Capture.PNG]\n",
    "is completely determined by its real part and imaginary part .\n",
    "Here, is the imaginary unit.\n",
    "\n",
    "A polar coordinate (\n",
    "\n",
    ") [Capture.PNG]\n",
    "\n",
    "is completely determined by modulus\n",
    "and phase angle .\n",
    "\n",
    "If we convert complex number to its polar coordinate, we find:\n",
    ": Distance from to origin, i.e.,\n",
    ": Counter clockwise angle measured from the positive -axis to the line segment that joins\n",
    "\n",
    "to the origin.\n",
    "\n",
    "Python's cmath module provides access to the mathematical functions for complex numbers.\n",
    "\n",
    "\n",
    "This tool returns the phase of complex number (also known as the argument of\n",
    "\n",
    ").\n",
    "\n",
    ">>> phase(complex(-1.0, 0.0))\n",
    "3.1415926535897931\n",
    "\n",
    "\n",
    "This tool returns the modulus (absolute value) of complex number\n",
    "\n",
    ".\n",
    "\n",
    ">>> abs(complex(-1.0, 0.0))\n",
    "1.0\n",
    "\n",
    "Task\n",
    "You are given a complex\n",
    "\n",
    ". Your task is to convert it to polar coordinates.\n",
    "\n",
    "Input Format\n",
    "\n",
    "A single line containing the complex number\n",
    "\n",
    ". Note: complex() function can be used in python to convert the input as a complex number.\n",
    "\n",
    "Constraints\n",
    "\n",
    "Given number is a valid complex number\n",
    "\n",
    "Output Format\n",
    "\n",
    "Output two lines:\n",
    "The first line should contain the value of\n",
    ".\n",
    "The second line should contain the value of\n",
    "\n",
    ".\n",
    "\n",
    "Sample Input\n",
    "\n",
    "  1+2j\n",
    "\n",
    "Sample Output\n",
    "\n",
    " 2.23606797749979 \n",
    " 1.1071487177940904\n",
    "\n",
    "Note: The output should be correct up to 3 decimal places. "
   ]
  },
  {
   "cell_type": "code",
   "execution_count": 62,
   "metadata": {},
   "outputs": [],
   "source": [
    "import cmath\n",
    "import re"
   ]
  },
  {
   "cell_type": "code",
   "execution_count": 64,
   "metadata": {},
   "outputs": [
    {
     "name": "stdout",
     "output_type": "stream",
     "text": [
      "1+2j\n"
     ]
    }
   ],
   "source": [
    "x,y = map(float,re.findall('[+-]?\\d+\\.?\\d*',input().strip()))"
   ]
  },
  {
   "cell_type": "code",
   "execution_count": 65,
   "metadata": {},
   "outputs": [
    {
     "name": "stdout",
     "output_type": "stream",
     "text": [
      "2.23606797749979\n",
      "1.1071487177940904\n"
     ]
    }
   ],
   "source": [
    "print(abs(complex(int(x),y)))\n",
    "print(cmath.phase(complex(int(x),y)))"
   ]
  },
  {
   "cell_type": "code",
   "execution_count": null,
   "metadata": {},
   "outputs": [],
   "source": []
  }
 ],
 "metadata": {
  "kernelspec": {
   "display_name": "Python 3",
   "language": "python",
   "name": "python3"
  },
  "language_info": {
   "codemirror_mode": {
    "name": "ipython",
    "version": 3
   },
   "file_extension": ".py",
   "mimetype": "text/x-python",
   "name": "python",
   "nbconvert_exporter": "python",
   "pygments_lexer": "ipython3",
   "version": "3.8.5"
  }
 },
 "nbformat": 4,
 "nbformat_minor": 4
}

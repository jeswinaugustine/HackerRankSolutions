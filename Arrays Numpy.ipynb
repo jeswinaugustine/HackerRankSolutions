{
 "cells": [
  {
   "cell_type": "markdown",
   "metadata": {},
   "source": [
    "The NumPy (Numeric Python) package helps us manipulate large arrays and matrices of numeric data.\n",
    "\n",
    "To use the NumPy module, we need to import it using:\n",
    "\n",
    "import numpy\n",
    "\n",
    "Arrays\n",
    "\n",
    "A NumPy array is a grid of values. They are similar to lists, except that every element of an array must be the same type.\n",
    "\n",
    "import numpy\n",
    "\n",
    "a = numpy.array([1,2,3,4,5])\n",
    "print a[1]          #2\n",
    "\n",
    "b = numpy.array([1,2,3,4,5],float)\n",
    "print b[1]          #2.0\n",
    "\n",
    "In the above example, numpy.array() is used to convert a list into a NumPy array. The second argument (float) can be used to set the type of array elements.\n",
    "\n",
    "Task\n",
    "\n",
    "You are given a space separated list of numbers.\n",
    "Your task is to print a reversed NumPy array with the element type float.\n",
    "\n",
    "Input Format\n",
    "\n",
    "A single line of input containing space separated numbers.\n",
    "\n",
    "Output Format\n",
    "\n",
    "Print the reverse NumPy array with type float.\n",
    "\n",
    "Sample Input\n",
    "\n",
    "1 2 3 4 -8 -10\n",
    "\n",
    "Sample Output\n",
    "\n",
    "[-10.  -8.   4.   3.   2.   1.]\n"
   ]
  },
  {
   "cell_type": "code",
   "execution_count": 6,
   "metadata": {},
   "outputs": [
    {
     "name": "stdout",
     "output_type": "stream",
     "text": [
      "2\n",
      "2\n"
     ]
    }
   ],
   "source": [
    "import numpy\n",
    "\n",
    "a = numpy.array([1,2,3,4,5])\n",
    "print (a[1])          #2\n",
    "\n",
    "b = numpy.array([1,2,3,4,5],int )\n",
    "print (b[1])          #2.0"
   ]
  },
  {
   "cell_type": "code",
   "execution_count": 8,
   "metadata": {},
   "outputs": [],
   "source": [
    "### Solution\n",
    "\n",
    "##input = 1 2 3 4 -8 -10"
   ]
  },
  {
   "cell_type": "code",
   "execution_count": 25,
   "metadata": {},
   "outputs": [],
   "source": [
    "import numpy as np\n",
    "\n",
    "def arrays(arr):\n",
    "    rev = np.array(arr[::-1],float)\n",
    "    print(rev)\n",
    "\n"
   ]
  },
  {
   "cell_type": "code",
   "execution_count": 11,
   "metadata": {},
   "outputs": [
    {
     "name": "stdout",
     "output_type": "stream",
     "text": [
      "1 2 3 4 -8 -10\n"
     ]
    }
   ],
   "source": [
    "arr = input().strip().split(' ')"
   ]
  },
  {
   "cell_type": "code",
   "execution_count": 26,
   "metadata": {},
   "outputs": [
    {
     "name": "stdout",
     "output_type": "stream",
     "text": [
      "[-10.  -8.   4.   3.   2.   1.]\n"
     ]
    }
   ],
   "source": [
    "arrays(arr)"
   ]
  },
  {
   "cell_type": "code",
   "execution_count": null,
   "metadata": {},
   "outputs": [],
   "source": []
  }
 ],
 "metadata": {
  "kernelspec": {
   "display_name": "Python 3",
   "language": "python",
   "name": "python3"
  },
  "language_info": {
   "codemirror_mode": {
    "name": "ipython",
    "version": 3
   },
   "file_extension": ".py",
   "mimetype": "text/x-python",
   "name": "python",
   "nbconvert_exporter": "python",
   "pygments_lexer": "ipython3",
   "version": "3.8.5"
  }
 },
 "nbformat": 4,
 "nbformat_minor": 4
}

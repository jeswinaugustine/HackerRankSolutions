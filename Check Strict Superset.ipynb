{
 "cells": [
  {
   "cell_type": "markdown",
   "metadata": {},
   "source": [
    "You are given a set and other sets.\n",
    "Your job is to find whether set is a strict superset of each of the\n",
    "\n",
    "sets.\n",
    "\n",
    "Print True, if\n",
    "is a strict superset of each of the\n",
    "\n",
    "sets. Otherwise, print False.\n",
    "\n",
    "A strict superset has at least one element that does not exist in its subset.\n",
    "\n",
    "Example\n",
    "Set\n",
    "is a strict superset of set.\n",
    "Set is not a strict superset of set.\n",
    "Set is not a strict superset of set\n",
    "\n",
    ".\n",
    "\n",
    "Input Format\n",
    "\n",
    "The first line contains the space separated elements of set\n",
    ".\n",
    "The second line contains integer , the number of other sets.\n",
    "The next\n",
    "\n",
    "lines contains the space separated elements of the other sets.\n",
    "\n",
    "Constraints\n",
    "\n",
    "Output Format\n",
    "\n",
    "Print True if set\n",
    "is a strict superset of all other\n",
    "\n",
    "sets. Otherwise, print False.\n",
    "\n",
    "Sample Input 0\n",
    "\n",
    "1 2 3 4 5 6 7 8 9 10 11 12 23 45 84 78\n",
    "2\n",
    "1 2 3 4 5\n",
    "100 11 12\n",
    "\n",
    "Sample Output 0\n",
    "\n",
    "False\n",
    "\n",
    "Explanation 0\n",
    "\n",
    "Set\n",
    "is the strict superset of the set but not of the set because is not in set .\n",
    "Hence, the output is False."
   ]
  },
  {
   "cell_type": "code",
   "execution_count": null,
   "metadata": {},
   "outputs": [],
   "source": []
  },
  {
   "cell_type": "code",
   "execution_count": null,
   "metadata": {},
   "outputs": [],
   "source": [
    "1 2 3 4 5 6 7 8 9 10 11 12 23 45 84 78\n",
    "2\n",
    "1 2 3 4 5\n",
    "100 11 12\n"
   ]
  },
  {
   "cell_type": "code",
   "execution_count": 8,
   "metadata": {},
   "outputs": [
    {
     "name": "stdout",
     "output_type": "stream",
     "text": [
      "1 2 3 4 5 6 7 8 9 10 11 12 23 45 84 78 2\n",
      "2\n"
     ]
    }
   ],
   "source": [
    "A, x = set(map(int,input().split())), int(input())"
   ]
  },
  {
   "cell_type": "code",
   "execution_count": 13,
   "metadata": {},
   "outputs": [
    {
     "name": "stdout",
     "output_type": "stream",
     "text": [
      "1 2 3 4 5\n",
      "100 11 12\n",
      "False\n"
     ]
    }
   ],
   "source": [
    "result = True \n",
    "for _ in range(x):\n",
    "    sub_set = set(map(int,input().split()))\n",
    "    result = result and (sub_set.issubset(A) and len(sub_set) < len(A))\n",
    "    if not result:\n",
    "        break\n",
    "print(result)"
   ]
  },
  {
   "cell_type": "code",
   "execution_count": 12,
   "metadata": {},
   "outputs": [
    {
     "name": "stdout",
     "output_type": "stream",
     "text": [
      "False\n"
     ]
    }
   ],
   "source": [
    "print ( result)"
   ]
  },
  {
   "cell_type": "code",
   "execution_count": null,
   "metadata": {},
   "outputs": [],
   "source": []
  }
 ],
 "metadata": {
  "kernelspec": {
   "display_name": "Python 3",
   "language": "python",
   "name": "python3"
  },
  "language_info": {
   "codemirror_mode": {
    "name": "ipython",
    "version": 3
   },
   "file_extension": ".py",
   "mimetype": "text/x-python",
   "name": "python",
   "nbconvert_exporter": "python",
   "pygments_lexer": "ipython3",
   "version": "3.8.5"
  }
 },
 "nbformat": 4,
 "nbformat_minor": 4
}

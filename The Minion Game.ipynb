{
 "cells": [
  {
   "cell_type": "markdown",
   "metadata": {},
   "source": [
    "Kevin and Stuart want to play the 'The Minion Game'.\n",
    "\n",
    "Game Rules\n",
    "\n",
    "Both players are given the same string,\n",
    ".\n",
    "Both players have to make substrings using the letters of the string\n",
    "\n",
    ".\n",
    "Stuart has to make words starting with consonants.\n",
    "Kevin has to make words starting with vowels.\n",
    "The game ends when both players have made all possible substrings.\n",
    "\n",
    "Scoring\n",
    "A player gets +1 point for each occurrence of the substring in the string\n",
    "\n",
    ".\n",
    "\n",
    "For Example:\n",
    "String\n",
    "\n",
    "= BANANA\n",
    "Kevin's vowel beginning word = ANA\n",
    "Here, ANA occurs twice in BANANA. Hence, Kevin will get 2 Points.\n",
    "\n",
    "For better understanding, see the image below:\n",
    "\n",
    "[banana.png]\n",
    "\n",
    "Your task is to determine the winner of the game and their score.\n",
    "\n",
    "Function Description\n",
    "\n",
    "Complete the minion_game in the editor below.\n",
    "\n",
    "minion_game has the following parameters:\n",
    "\n",
    "    string string: the string to analyze\n",
    "\n",
    "Prints\n",
    "\n",
    "    string: the winner's name and score, separated by a space on one line, or Draw if there is no winner\n",
    "\n",
    "Input Format\n",
    "\n",
    "A single line of input containing the string\n",
    ".\n",
    "Note: The string will contain only uppercase letters:\n",
    "\n",
    ".\n",
    "\n",
    "Constraints\n",
    "\n",
    "\n",
    "Sample Input\n",
    "\n",
    "BANANA\n",
    "\n",
    "Sample Output\n",
    "\n",
    "Stuart 12\n",
    "\n",
    "Note :\n",
    "Vowels are only defined as\n",
    ". In this problem, is not considered a vowel."
   ]
  },
  {
   "cell_type": "markdown",
   "metadata": {},
   "source": [
    "def minion_game(string):\n",
    "    # your code goes here"
   ]
  },
  {
   "cell_type": "code",
   "execution_count": 79,
   "metadata": {},
   "outputs": [],
   "source": [
    "def minion_game(string):\n",
    "    # your code goes here\n",
    "    \n",
    "    stuart = 0\n",
    "    kevin = 0\n",
    "    for i in range(len(string)):\n",
    "        if (string[i] in \"aeiuoAEIUO\"):\n",
    "            kevin += len(string)-i\n",
    "        else:\n",
    "            stuart += len(string)-i\n",
    "    \n",
    "    if stuart > kevin:\n",
    "        print(\"Stuart \",stuart)\n",
    "    elif kevin > stuart:\n",
    "        print(\"Kevin \",kevin)\n",
    "    else :\n",
    "        print(\"Draw\")\n",
    "        \n",
    "    \n",
    "    "
   ]
  },
  {
   "cell_type": "code",
   "execution_count": 80,
   "metadata": {
    "scrolled": true
   },
   "outputs": [
    {
     "name": "stdout",
     "output_type": "stream",
     "text": [
      "banana\n",
      "Stuart  12\n"
     ]
    }
   ],
   "source": [
    "if __name__ == '__main__':\n",
    "    s = input()\n",
    "    minion_game(s)"
   ]
  },
  {
   "cell_type": "code",
   "execution_count": null,
   "metadata": {},
   "outputs": [],
   "source": []
  }
 ],
 "metadata": {
  "kernelspec": {
   "display_name": "Python 3",
   "language": "python",
   "name": "python3"
  },
  "language_info": {
   "codemirror_mode": {
    "name": "ipython",
    "version": 3
   },
   "file_extension": ".py",
   "mimetype": "text/x-python",
   "name": "python",
   "nbconvert_exporter": "python",
   "pygments_lexer": "ipython3",
   "version": "3.8.5"
  }
 },
 "nbformat": 4,
 "nbformat_minor": 4
}

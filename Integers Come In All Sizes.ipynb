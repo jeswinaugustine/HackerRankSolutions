{
 "cells": [
  {
   "cell_type": "markdown",
   "metadata": {},
   "source": [
    "Integers in Python can be as big as the bytes in your machine's memory. There is no limit in size as there is: (c++ int) or\n",
    "\n",
    "(C++ long long int).\n",
    "\n",
    "As we know, the result of\n",
    "grows really fast with increasing\n",
    "\n",
    ".\n",
    "\n",
    "Let's do some calculations on very large integers.\n",
    "\n",
    "Task\n",
    "Read four numbers,\n",
    ", , , and , and print the result of\n",
    "\n",
    ".\n",
    "\n",
    "Input Format\n",
    "Integers\n",
    ", , , and\n",
    "\n",
    "are given on four separate lines, respectively.\n",
    "\n",
    "Constraints\n",
    "\n",
    "\n",
    "\n",
    "Output Format\n",
    "Print the result of\n",
    "\n",
    "on one line.\n",
    "\n",
    "Sample Input\n",
    "\n",
    "9\n",
    "29\n",
    "7\n",
    "27\n",
    "\n",
    "Sample Output\n",
    "\n",
    "4710194409608608369201743232  \n",
    "\n",
    "Note: This result is bigger than\n",
    ". Hence, it won't fit in the long long int of C++ or a 64-bit integer. "
   ]
  },
  {
   "cell_type": "code",
   "execution_count": 1,
   "metadata": {},
   "outputs": [
    {
     "name": "stdout",
     "output_type": "stream",
     "text": [
      "9\n",
      "29\n",
      "7\n",
      "27\n"
     ]
    }
   ],
   "source": [
    "a  = int(input())\n",
    "b  = int(input())\n",
    "c  = int(input())\n",
    "d  = int(input())"
   ]
  },
  {
   "cell_type": "code",
   "execution_count": 3,
   "metadata": {},
   "outputs": [
    {
     "name": "stdout",
     "output_type": "stream",
     "text": [
      "4713348603002058014648441296\n"
     ]
    }
   ],
   "source": [
    "print (pow(a,b) + pow(c,b))"
   ]
  },
  {
   "cell_type": "code",
   "execution_count": 4,
   "metadata": {},
   "outputs": [
    {
     "name": "stdout",
     "output_type": "stream",
     "text": [
      "9\n",
      "29\n",
      "7\n",
      "27\n",
      "4710194409608608369201743232\n"
     ]
    }
   ],
   "source": [
    "print (pow(int(input()),int(input())) + pow(int(input()),int(input())))"
   ]
  },
  {
   "cell_type": "code",
   "execution_count": null,
   "metadata": {},
   "outputs": [],
   "source": []
  }
 ],
 "metadata": {
  "kernelspec": {
   "display_name": "Python 3",
   "language": "python",
   "name": "python3"
  },
  "language_info": {
   "codemirror_mode": {
    "name": "ipython",
    "version": 3
   },
   "file_extension": ".py",
   "mimetype": "text/x-python",
   "name": "python",
   "nbconvert_exporter": "python",
   "pygments_lexer": "ipython3",
   "version": "3.8.5"
  }
 },
 "nbformat": 4,
 "nbformat_minor": 4
}

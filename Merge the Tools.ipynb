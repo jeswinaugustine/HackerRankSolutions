{
 "cells": [
  {
   "cell_type": "markdown",
   "metadata": {},
   "source": [
    "Consider the following:\n",
    "\n",
    "    A string, \n",
    "\n",
    ", of length where\n",
    ".\n",
    "An integer,\n",
    ", where is a factor of\n",
    "\n",
    "    .\n",
    "\n",
    "We can split\n",
    "into substrings where each subtring, , consists of a contiguous block of characters in . Then, use each to create string\n",
    "\n",
    "such that:\n",
    "\n",
    "    The characters in \n",
    "\n",
    "are a subsequence of the characters in\n",
    ".\n",
    "Any repeat occurrence of a character is removed from the string such that each character in\n",
    "occurs exactly once. In other words, if the character at some index in occurs at a previous index in , then do not include the character in string\n",
    "\n",
    "    .\n",
    "\n",
    "Given\n",
    "and , print lines where each line denotes string\n",
    "\n",
    ".\n",
    "\n",
    "Example\n",
    "\n",
    "There are three substrings of length to consider: 'AAA', 'BCA' and 'DDE'. The first substring is all 'A' characters, so . The second substring has all distinct characters, so . The third substring has different characters, so\n",
    "\n",
    ". Note that a subsequence maintains the original order of characters encountered. The order of characters in each subsequence shown is important.\n",
    "\n",
    "Function Description\n",
    "\n",
    "Complete the merge_the_tools function in the editor below.\n",
    "\n",
    "merge_the_tools has the following parameters:\n",
    "\n",
    "    string s: the string to analyze\n",
    "    int k: the size of substrings to analyze\n",
    "\n",
    "Prints\n",
    "\n",
    "Print each subsequence on a new line. There will be\n",
    "\n",
    "of them. No return value is expected.\n",
    "\n",
    "Input Format\n",
    "\n",
    "The first line contains a single string,\n",
    ".\n",
    "The second line contains an integer,\n",
    "\n",
    ", the length of each substring.\n",
    "\n",
    "Constraints\n",
    "\n",
    ", where is the length of It is guaranteed that is a multiple of\n",
    "\n",
    "    .\n",
    "\n",
    "Sample Input\n",
    "\n",
    "STDIN       Function\n",
    "-----       --------\n",
    "AABCAAADA   s = 'AABCAAADA'\n",
    "3           k = 3\n",
    "\n",
    "Sample Output\n",
    "\n",
    "AB\n",
    "CA\n",
    "AD\n",
    "\n",
    "Explanation\n",
    "\n",
    "Split\n",
    "into equal parts of length . Convert each to by removing any subsequent occurrences of non-distinct characters in\n",
    "\n",
    ":\n",
    "\n",
    "Print each on a new line."
   ]
  },
  {
   "cell_type": "code",
   "execution_count": 30,
   "metadata": {},
   "outputs": [],
   "source": []
  },
  {
   "cell_type": "code",
   "execution_count": 57,
   "metadata": {},
   "outputs": [],
   "source": [
    "#Method 1:\n",
    "\n",
    "from collections import OrderedDict \n",
    "\n",
    "def merge_the_tools(string, k):\n",
    "    # your code goes here\n",
    "    for x in range(0,len(string),k):     \n",
    "        print(''.join(list(OrderedDict.fromkeys(string[x:x+k]))))"
   ]
  },
  {
   "cell_type": "code",
   "execution_count": 61,
   "metadata": {},
   "outputs": [],
   "source": [
    "# Method 2:\n",
    "\n",
    "def merge_the_tools(string, k):\n",
    "# your code goes here\n",
    "    while string:\n",
    "        s = string[0:k]\n",
    "        seen = ''\n",
    "        for c in s:\n",
    "            if c not in seen:\n",
    "                seen += c\n",
    "        print(seen)\n",
    "        string = string[k:]"
   ]
  },
  {
   "cell_type": "code",
   "execution_count": 67,
   "metadata": {},
   "outputs": [],
   "source": [
    "# Faiu\n",
    "def merge_the_tools(string, k):\n",
    "    # your code goes here\n",
    "\n",
    "    n = len(string)//k;\n",
    "    chunks = [ string[i:i+n] for i in range(0,len(string),n)]\n",
    "    result = list()\n",
    "\n",
    "    \n",
    "    for word in chunks:\n",
    "        sub = ''\n",
    "        for c in word: \n",
    "            if c not in sub:\n",
    "                sub += c\n",
    "        result.append(sub)\n",
    "    \n",
    "\n",
    "    for words in result:\n",
    "        print(words)\n",
    "\n",
    "    "
   ]
  },
  {
   "cell_type": "code",
   "execution_count": 68,
   "metadata": {},
   "outputs": [
    {
     "name": "stdout",
     "output_type": "stream",
     "text": [
      "AB\n",
      "CA\n",
      "AD\n"
     ]
    }
   ],
   "source": [
    "merge_the_tools(\"AABCAAADA\",3)"
   ]
  },
  {
   "cell_type": "code",
   "execution_count": 3,
   "metadata": {},
   "outputs": [
    {
     "name": "stdout",
     "output_type": "stream",
     "text": [
      "AABCAAADA\n",
      "3\n"
     ]
    }
   ],
   "source": [
    "if __name__ == '__main__':\n",
    "    string, k = input(), int(input())\n",
    "    merge_the_tools(string, k)"
   ]
  },
  {
   "cell_type": "code",
   "execution_count": null,
   "metadata": {},
   "outputs": [],
   "source": []
  }
 ],
 "metadata": {
  "kernelspec": {
   "display_name": "Python 3",
   "language": "python",
   "name": "python3"
  },
  "language_info": {
   "codemirror_mode": {
    "name": "ipython",
    "version": 3
   },
   "file_extension": ".py",
   "mimetype": "text/x-python",
   "name": "python",
   "nbconvert_exporter": "python",
   "pygments_lexer": "ipython3",
   "version": "3.8.5"
  }
 },
 "nbformat": 4,
 "nbformat_minor": 4
}
